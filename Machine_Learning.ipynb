{
  "nbformat": 4,
  "nbformat_minor": 0,
  "metadata": {
    "colab": {
      "provenance": [],
      "authorship_tag": "ABX9TyNCZchboxTKldOEslpwsLZU",
      "include_colab_link": true
    },
    "kernelspec": {
      "name": "python3",
      "display_name": "Python 3"
    },
    "language_info": {
      "name": "python"
    }
  },
  "cells": [
    {
      "cell_type": "markdown",
      "metadata": {
        "id": "view-in-github",
        "colab_type": "text"
      },
      "source": [
        "<a href=\"https://colab.research.google.com/github/Imran1hp/pandas-/blob/main/Machine_Learning.ipynb\" target=\"_parent\"><img src=\"https://colab.research.google.com/assets/colab-badge.svg\" alt=\"Open In Colab\"/></a>"
      ]
    },
    {
      "cell_type": "code",
      "execution_count": null,
      "metadata": {
        "id": "Ay8-oMt1Hn2M"
      },
      "outputs": [],
      "source": [
        "import pandas as pd\n",
        "import numpy as np\n",
        "import matplotlib.pyplot as plt\n",
        "from sklearn.preprocessing import StandardScaler"
      ]
    },
    {
      "cell_type": "code",
      "source": [
        "cols = [\"flength\",\"fwidth\",\"fSize\",\"fconc\",\"fconcl\",\"'fAsym\",\"fM3Long\",\"fM3Trans\",\"fAlpha\",\"fDist\",\"class\"]\n",
        "df =pd.read_csv(\"/magic04.data\",names=cols)\n",
        "df.head()"
      ],
      "metadata": {
        "id": "QFE4AzlPICP5"
      },
      "execution_count": null,
      "outputs": []
    },
    {
      "cell_type": "code",
      "source": [
        "df[\"class\"] = (df[\"class\"]==\"g\").astype(int)"
      ],
      "metadata": {
        "id": "rY284VltJVWW"
      },
      "execution_count": null,
      "outputs": []
    },
    {
      "cell_type": "code",
      "source": [
        "df.head()"
      ],
      "metadata": {
        "id": "9Qml1fZHSFdV"
      },
      "execution_count": null,
      "outputs": []
    },
    {
      "cell_type": "code",
      "source": [
        "for label in cols[:-1]:\n",
        "  plt.hist(df[df[\"class\"]==1][label],color=\"blue\",label=\"gamma\",alpha=0.7, density=True)\n",
        "  plt.hist(df[df[\"class\"]==0][label],color=\"red\",label=\"hadron\",alpha=0.7, density=True)\n",
        "  plt.title(label)\n",
        "  plt.ylabel(\"Probability\")\n",
        "  plt.xlabel(label)\n",
        "  plt.legend()\n",
        "  plt.show()"
      ],
      "metadata": {
        "id": "34QZ4c5QSYGS"
      },
      "execution_count": null,
      "outputs": []
    },
    {
      "cell_type": "code",
      "source": [
        "train,valid, test = np.split(df.sample(frac=1),[int(0.6*len(df)),int(0.8*len(df))])"
      ],
      "metadata": {
        "colab": {
          "base_uri": "https://localhost:8080/"
        },
        "id": "d1g-yYc27T5w",
        "outputId": "521e8e65-1b8f-4554-b1ad-7be75c0b4334"
      },
      "execution_count": null,
      "outputs": [
        {
          "output_type": "stream",
          "name": "stderr",
          "text": [
            "/usr/local/lib/python3.11/dist-packages/numpy/_core/fromnumeric.py:57: FutureWarning: 'DataFrame.swapaxes' is deprecated and will be removed in a future version. Please use 'DataFrame.transpose' instead.\n",
            "  return bound(*args, **kwds)\n"
          ]
        }
      ]
    },
    {
      "cell_type": "code",
      "source": [
        "def scale_dataset(dataframe):\n",
        "  x= dataframe[dataframe.cols[:-1].values]\n",
        "  y = dataframe[dataframe.cols[-1].values]\n",
        "\n",
        "  scaler =StandardScaler()\n",
        "  x = scaler.fit_transform(x)\n",
        "\n",
        "  data = np.hstack((x,np.reshape(y.values,(-1,1))))\n",
        "\n",
        "  return data,x,y\n"
      ],
      "metadata": {
        "id": "S9cWh71PCLqM"
      },
      "execution_count": null,
      "outputs": []
    },
    {
      "cell_type": "code",
      "source": [
        "print"
      ],
      "metadata": {
        "id": "ivQ8uPytEjGb"
      },
      "execution_count": null,
      "outputs": []
    },
    {
      "cell_type": "markdown",
      "source": [],
      "metadata": {
        "id": "6iZj-ZZwEi1M"
      }
    }
  ]
}